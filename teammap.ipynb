{
 "cells": [
  {
   "cell_type": "code",
   "execution_count": 4,
   "id": "f891e392-58b3-4522-a2b1-9f5829197290",
   "metadata": {},
   "outputs": [
    {
     "name": "stdout",
     "output_type": "stream",
     "text": [
      "Requirement already satisfied: plotly in /opt/anaconda3/envs/my_anaconda_python312/lib/python3.12/site-packages (5.24.1)\n",
      "Requirement already satisfied: tenacity>=6.2.0 in /opt/anaconda3/envs/my_anaconda_python312/lib/python3.12/site-packages (from plotly) (9.0.0)\n",
      "Requirement already satisfied: packaging in /opt/anaconda3/envs/my_anaconda_python312/lib/python3.12/site-packages (from plotly) (24.2)\n",
      "Note: you may need to restart the kernel to use updated packages.\n"
     ]
    }
   ],
   "source": [
    "pip install plotly"
   ]
  },
  {
   "cell_type": "code",
   "execution_count": 19,
   "id": "415bc0c5-945f-40af-bbde-62a9093bb524",
   "metadata": {},
   "outputs": [
    {
     "data": {
      "text/html": [
       "<iframe\n",
       "    scrolling=\"no\"\n",
       "    width=\"100%\"\n",
       "    height=\"545px\"\n",
       "    src=\"iframe_figures/figure_19.html\"\n",
       "    frameborder=\"0\"\n",
       "    allowfullscreen\n",
       "></iframe>\n"
      ]
     },
     "metadata": {},
     "output_type": "display_data"
    }
   ],
   "source": [
    "import plotly.express as px\n",
    "import pandas as pd\n",
    "import plotly.io as pio\n",
    "\n",
    "# Define the location data\n",
    "data = [\n",
    "    {\"location\": \"EU\", \"lat\": 48.7758, \"lon\": 9.1829},\n",
    "    {\"location\": \"Philadelpha, PA\", \"lat\": 44.5588, \"lon\": -72.5778},\n",
    "    {\"location\": \"SA\", \"lat\": -30.5595, \"lon\": 22.9375},\n",
    "    {\"location\": \"Washington, DC\", \"lat\": 38.9072, \"lon\": -77.0369},\n",
    "    {\"location\": \"Philadelphia, PA, USA\", \"lat\": 39.9526, \"lon\": -75.1652},\n",
    "    {\"location\": \"Oklahoma City, OK, USA\", \"lat\": 35.4676, \"lon\": -97.5164},\n",
    "    {\"location\": \"Lakeland, FL, USA\", \"lat\": 28.0395, \"lon\": -81.9498},\n",
    "    {\"location\": \"Gainesville, FL, USA\", \"lat\": 29.6516, \"lon\": -82.3248},\n",
    "    {\"location\": \"Frisco, TX, USA\", \"lat\": 33.1507, \"lon\": -96.8236},\n",
    "    {\"location\": \"India\", \"lat\": 20.5937, \"lon\": 78.9629},\n",
    "    {\"location\": \"Petaluma, CA, USA\", \"lat\": 38.2324, \"lon\": -122.6367},\n",
    "    {\"location\": \"Pittsburgh, PA, USA\", \"lat\": 40.4406, \"lon\": -79.9959},\n",
    "]\n",
    "\n",
    "# Convert to DataFrame\n",
    "df = pd.DataFrame(data)\n",
    "df[\"hover_label\"] = \"📍 \" + df[\"location\"]\n",
    "\n",
    "# Create the interactive map\n",
    "fig = px.scatter_geo(\n",
    "    df,\n",
    "    lat=\"lat\",\n",
    "    lon=\"lon\",\n",
    "    projection=\"natural earth\"\n",
    ")\n",
    "\n",
    "# Update hover and marker style\n",
    "fig.update_traces(\n",
    "    hovertext=df[\"hover_label\"],\n",
    "    hovertemplate=\"%{hovertext}<extra></extra>\",\n",
    "    marker=dict(\n",
    "        size=18,\n",
    "        color='lightyellow',\n",
    "        line=dict(width=2, color='darkgrey')\n",
    "    )\n",
    ")\n",
    "\n",
    "# Customize layout\n",
    "fig.update_layout(\n",
    "    geo=dict(\n",
    "        showland=True,\n",
    "        landcolor=\"#D2B48C\",\n",
    "        showocean=True,\n",
    "        oceancolor=\"#A9A9A9\",\n",
    "        showlakes=True,\n",
    "        lakecolor=\"#B0C4DE\",\n",
    "        showrivers=False,\n",
    "        projection_scale=1.4\n",
    "    ),\n",
    "    margin=dict(l=0, r=0, t=30, b=0)\n",
    ")\n",
    "\n",
    "# Show and/or export\n",
    "fig.show()\n",
    "pio.write_html(fig, file=\"teammap_original.html\", auto_open=True)"
   ]
  },
  {
   "cell_type": "code",
   "execution_count": null,
   "id": "861fc1f5-89e7-4e44-800c-b3a84ccc962a",
   "metadata": {},
   "outputs": [],
   "source": []
  }
 ],
 "metadata": {
  "kernelspec": {
   "display_name": "Python 3 (ipykernel)",
   "language": "python",
   "name": "python3"
  },
  "language_info": {
   "codemirror_mode": {
    "name": "ipython",
    "version": 3
   },
   "file_extension": ".py",
   "mimetype": "text/x-python",
   "name": "python",
   "nbconvert_exporter": "python",
   "pygments_lexer": "ipython3",
   "version": "3.12.9"
  }
 },
 "nbformat": 4,
 "nbformat_minor": 5
}
